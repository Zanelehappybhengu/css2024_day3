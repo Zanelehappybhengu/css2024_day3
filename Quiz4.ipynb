{
 "cells": [
  {
   "cell_type": "code",
   "execution_count": 2,
   "id": "e806837c",
   "metadata": {},
   "outputs": [],
   "source": [
    "import pandas as pd"
   ]
  },
  {
   "cell_type": "code",
   "execution_count": 3,
   "id": "f17403a7",
   "metadata": {},
   "outputs": [],
   "source": [
    "df=pd.read_csv(\"movie_dataset.csv\")"
   ]
  },
  {
   "cell_type": "code",
   "execution_count": 4,
   "id": "03e874be",
   "metadata": {},
   "outputs": [
    {
     "data": {
      "text/html": [
       "<div>\n",
       "<style scoped>\n",
       "    .dataframe tbody tr th:only-of-type {\n",
       "        vertical-align: middle;\n",
       "    }\n",
       "\n",
       "    .dataframe tbody tr th {\n",
       "        vertical-align: top;\n",
       "    }\n",
       "\n",
       "    .dataframe thead th {\n",
       "        text-align: right;\n",
       "    }\n",
       "</style>\n",
       "<table border=\"1\" class=\"dataframe\">\n",
       "  <thead>\n",
       "    <tr style=\"text-align: right;\">\n",
       "      <th></th>\n",
       "      <th>Rank</th>\n",
       "      <th>Title</th>\n",
       "      <th>Genre</th>\n",
       "      <th>Description</th>\n",
       "      <th>Director</th>\n",
       "      <th>Actors</th>\n",
       "      <th>Year</th>\n",
       "      <th>Runtime (Minutes)</th>\n",
       "      <th>Rating</th>\n",
       "      <th>Votes</th>\n",
       "      <th>Revenue (Millions)</th>\n",
       "      <th>Metascore</th>\n",
       "    </tr>\n",
       "  </thead>\n",
       "  <tbody>\n",
       "    <tr>\n",
       "      <th>0</th>\n",
       "      <td>1</td>\n",
       "      <td>Guardians of the Galaxy</td>\n",
       "      <td>Action,Adventure,Sci-Fi</td>\n",
       "      <td>A group of intergalactic criminals are forced ...</td>\n",
       "      <td>James Gunn</td>\n",
       "      <td>Chris Pratt, Vin Diesel, Bradley Cooper, Zoe S...</td>\n",
       "      <td>2014</td>\n",
       "      <td>121</td>\n",
       "      <td>8.1</td>\n",
       "      <td>757074</td>\n",
       "      <td>333.13</td>\n",
       "      <td>76.0</td>\n",
       "    </tr>\n",
       "    <tr>\n",
       "      <th>1</th>\n",
       "      <td>2</td>\n",
       "      <td>Prometheus</td>\n",
       "      <td>Adventure,Mystery,Sci-Fi</td>\n",
       "      <td>Following clues to the origin of mankind, a te...</td>\n",
       "      <td>Ridley Scott</td>\n",
       "      <td>Noomi Rapace, Logan Marshall-Green, Michael Fa...</td>\n",
       "      <td>2012</td>\n",
       "      <td>124</td>\n",
       "      <td>7.0</td>\n",
       "      <td>485820</td>\n",
       "      <td>126.46</td>\n",
       "      <td>65.0</td>\n",
       "    </tr>\n",
       "    <tr>\n",
       "      <th>2</th>\n",
       "      <td>3</td>\n",
       "      <td>Split</td>\n",
       "      <td>Horror,Thriller</td>\n",
       "      <td>Three girls are kidnapped by a man with a diag...</td>\n",
       "      <td>M. Night Shyamalan</td>\n",
       "      <td>James McAvoy, Anya Taylor-Joy, Haley Lu Richar...</td>\n",
       "      <td>2016</td>\n",
       "      <td>117</td>\n",
       "      <td>7.3</td>\n",
       "      <td>157606</td>\n",
       "      <td>138.12</td>\n",
       "      <td>62.0</td>\n",
       "    </tr>\n",
       "    <tr>\n",
       "      <th>3</th>\n",
       "      <td>4</td>\n",
       "      <td>Sing</td>\n",
       "      <td>Animation,Comedy,Family</td>\n",
       "      <td>In a city of humanoid animals, a hustling thea...</td>\n",
       "      <td>Christophe Lourdelet</td>\n",
       "      <td>Matthew McConaughey,Reese Witherspoon, Seth Ma...</td>\n",
       "      <td>2016</td>\n",
       "      <td>108</td>\n",
       "      <td>7.2</td>\n",
       "      <td>60545</td>\n",
       "      <td>270.32</td>\n",
       "      <td>59.0</td>\n",
       "    </tr>\n",
       "    <tr>\n",
       "      <th>4</th>\n",
       "      <td>5</td>\n",
       "      <td>Suicide Squad</td>\n",
       "      <td>Action,Adventure,Fantasy</td>\n",
       "      <td>A secret government agency recruits some of th...</td>\n",
       "      <td>David Ayer</td>\n",
       "      <td>Will Smith, Jared Leto, Margot Robbie, Viola D...</td>\n",
       "      <td>2016</td>\n",
       "      <td>123</td>\n",
       "      <td>6.2</td>\n",
       "      <td>393727</td>\n",
       "      <td>325.02</td>\n",
       "      <td>40.0</td>\n",
       "    </tr>\n",
       "    <tr>\n",
       "      <th>...</th>\n",
       "      <td>...</td>\n",
       "      <td>...</td>\n",
       "      <td>...</td>\n",
       "      <td>...</td>\n",
       "      <td>...</td>\n",
       "      <td>...</td>\n",
       "      <td>...</td>\n",
       "      <td>...</td>\n",
       "      <td>...</td>\n",
       "      <td>...</td>\n",
       "      <td>...</td>\n",
       "      <td>...</td>\n",
       "    </tr>\n",
       "    <tr>\n",
       "      <th>995</th>\n",
       "      <td>996</td>\n",
       "      <td>Secret in Their Eyes</td>\n",
       "      <td>Crime,Drama,Mystery</td>\n",
       "      <td>A tight-knit team of rising investigators, alo...</td>\n",
       "      <td>Billy Ray</td>\n",
       "      <td>Chiwetel Ejiofor, Nicole Kidman, Julia Roberts...</td>\n",
       "      <td>2015</td>\n",
       "      <td>111</td>\n",
       "      <td>6.2</td>\n",
       "      <td>27585</td>\n",
       "      <td>NaN</td>\n",
       "      <td>45.0</td>\n",
       "    </tr>\n",
       "    <tr>\n",
       "      <th>996</th>\n",
       "      <td>997</td>\n",
       "      <td>Hostel: Part II</td>\n",
       "      <td>Horror</td>\n",
       "      <td>Three American college students studying abroa...</td>\n",
       "      <td>Eli Roth</td>\n",
       "      <td>Lauren German, Heather Matarazzo, Bijou Philli...</td>\n",
       "      <td>2007</td>\n",
       "      <td>94</td>\n",
       "      <td>5.5</td>\n",
       "      <td>73152</td>\n",
       "      <td>17.54</td>\n",
       "      <td>46.0</td>\n",
       "    </tr>\n",
       "    <tr>\n",
       "      <th>997</th>\n",
       "      <td>998</td>\n",
       "      <td>Step Up 2: The Streets</td>\n",
       "      <td>Drama,Music,Romance</td>\n",
       "      <td>Romantic sparks occur between two dance studen...</td>\n",
       "      <td>Jon M. Chu</td>\n",
       "      <td>Robert Hoffman, Briana Evigan, Cassie Ventura,...</td>\n",
       "      <td>2008</td>\n",
       "      <td>98</td>\n",
       "      <td>6.2</td>\n",
       "      <td>70699</td>\n",
       "      <td>58.01</td>\n",
       "      <td>50.0</td>\n",
       "    </tr>\n",
       "    <tr>\n",
       "      <th>998</th>\n",
       "      <td>999</td>\n",
       "      <td>Search Party</td>\n",
       "      <td>Adventure,Comedy</td>\n",
       "      <td>A pair of friends embark on a mission to reuni...</td>\n",
       "      <td>Scot Armstrong</td>\n",
       "      <td>Adam Pally, T.J. Miller, Thomas Middleditch,Sh...</td>\n",
       "      <td>2014</td>\n",
       "      <td>93</td>\n",
       "      <td>5.6</td>\n",
       "      <td>4881</td>\n",
       "      <td>NaN</td>\n",
       "      <td>22.0</td>\n",
       "    </tr>\n",
       "    <tr>\n",
       "      <th>999</th>\n",
       "      <td>1000</td>\n",
       "      <td>Nine Lives</td>\n",
       "      <td>Comedy,Family,Fantasy</td>\n",
       "      <td>A stuffy businessman finds himself trapped ins...</td>\n",
       "      <td>Barry Sonnenfeld</td>\n",
       "      <td>Kevin Spacey, Jennifer Garner, Robbie Amell,Ch...</td>\n",
       "      <td>2016</td>\n",
       "      <td>87</td>\n",
       "      <td>5.3</td>\n",
       "      <td>12435</td>\n",
       "      <td>19.64</td>\n",
       "      <td>11.0</td>\n",
       "    </tr>\n",
       "  </tbody>\n",
       "</table>\n",
       "<p>1000 rows × 12 columns</p>\n",
       "</div>"
      ],
      "text/plain": [
       "     Rank                    Title                     Genre  \\\n",
       "0       1  Guardians of the Galaxy   Action,Adventure,Sci-Fi   \n",
       "1       2               Prometheus  Adventure,Mystery,Sci-Fi   \n",
       "2       3                    Split           Horror,Thriller   \n",
       "3       4                     Sing   Animation,Comedy,Family   \n",
       "4       5            Suicide Squad  Action,Adventure,Fantasy   \n",
       "..    ...                      ...                       ...   \n",
       "995   996     Secret in Their Eyes       Crime,Drama,Mystery   \n",
       "996   997          Hostel: Part II                    Horror   \n",
       "997   998   Step Up 2: The Streets       Drama,Music,Romance   \n",
       "998   999             Search Party          Adventure,Comedy   \n",
       "999  1000               Nine Lives     Comedy,Family,Fantasy   \n",
       "\n",
       "                                           Description              Director  \\\n",
       "0    A group of intergalactic criminals are forced ...            James Gunn   \n",
       "1    Following clues to the origin of mankind, a te...          Ridley Scott   \n",
       "2    Three girls are kidnapped by a man with a diag...    M. Night Shyamalan   \n",
       "3    In a city of humanoid animals, a hustling thea...  Christophe Lourdelet   \n",
       "4    A secret government agency recruits some of th...            David Ayer   \n",
       "..                                                 ...                   ...   \n",
       "995  A tight-knit team of rising investigators, alo...             Billy Ray   \n",
       "996  Three American college students studying abroa...              Eli Roth   \n",
       "997  Romantic sparks occur between two dance studen...            Jon M. Chu   \n",
       "998  A pair of friends embark on a mission to reuni...        Scot Armstrong   \n",
       "999  A stuffy businessman finds himself trapped ins...      Barry Sonnenfeld   \n",
       "\n",
       "                                                Actors  Year  \\\n",
       "0    Chris Pratt, Vin Diesel, Bradley Cooper, Zoe S...  2014   \n",
       "1    Noomi Rapace, Logan Marshall-Green, Michael Fa...  2012   \n",
       "2    James McAvoy, Anya Taylor-Joy, Haley Lu Richar...  2016   \n",
       "3    Matthew McConaughey,Reese Witherspoon, Seth Ma...  2016   \n",
       "4    Will Smith, Jared Leto, Margot Robbie, Viola D...  2016   \n",
       "..                                                 ...   ...   \n",
       "995  Chiwetel Ejiofor, Nicole Kidman, Julia Roberts...  2015   \n",
       "996  Lauren German, Heather Matarazzo, Bijou Philli...  2007   \n",
       "997  Robert Hoffman, Briana Evigan, Cassie Ventura,...  2008   \n",
       "998  Adam Pally, T.J. Miller, Thomas Middleditch,Sh...  2014   \n",
       "999  Kevin Spacey, Jennifer Garner, Robbie Amell,Ch...  2016   \n",
       "\n",
       "     Runtime (Minutes)  Rating   Votes  Revenue (Millions)  Metascore  \n",
       "0                  121     8.1  757074              333.13       76.0  \n",
       "1                  124     7.0  485820              126.46       65.0  \n",
       "2                  117     7.3  157606              138.12       62.0  \n",
       "3                  108     7.2   60545              270.32       59.0  \n",
       "4                  123     6.2  393727              325.02       40.0  \n",
       "..                 ...     ...     ...                 ...        ...  \n",
       "995                111     6.2   27585                 NaN       45.0  \n",
       "996                 94     5.5   73152               17.54       46.0  \n",
       "997                 98     6.2   70699               58.01       50.0  \n",
       "998                 93     5.6    4881                 NaN       22.0  \n",
       "999                 87     5.3   12435               19.64       11.0  \n",
       "\n",
       "[1000 rows x 12 columns]"
      ]
     },
     "execution_count": 4,
     "metadata": {},
     "output_type": "execute_result"
    }
   ],
   "source": [
    "df"
   ]
  },
  {
   "cell_type": "code",
   "execution_count": 5,
   "id": "52daaafb",
   "metadata": {},
   "outputs": [
    {
     "name": "stdout",
     "output_type": "stream",
     "text": [
      "Highest Rated Movie:\n",
      "    Rank            Title               Genre  \\\n",
      "54    55  The Dark Knight  Action,Crime,Drama   \n",
      "\n",
      "                                          Description           Director  \\\n",
      "54  When the menace known as the Joker wreaks havo...  Christopher Nolan   \n",
      "\n",
      "                                               Actors  Year  \\\n",
      "54  Christian Bale, Heath Ledger, Aaron Eckhart,Mi...  2008   \n",
      "\n",
      "    Runtime (Minutes)  Rating    Votes  Revenue (Millions)  Metascore  \n",
      "54                152     9.0  1791916              533.32       82.0  \n"
     ]
    }
   ],
   "source": [
    "highest_rated_movie = df[df['Rating'] == df['Rating'].max()]\n",
    "\n",
    "# Print the highest-rated movie information\n",
    "print(\"Highest Rated Movie:\")\n",
    "print(highest_rated_movie)"
   ]
  },
  {
   "cell_type": "code",
   "execution_count": 6,
   "id": "03e26643",
   "metadata": {},
   "outputs": [
    {
     "name": "stdout",
     "output_type": "stream",
     "text": [
      "Average Revenue of All Movies: $82.96\n"
     ]
    }
   ],
   "source": [
    "average_revenue = df['Revenue (Millions)'].mean()\n",
    "\n",
    "# Print the result\n",
    "print(f\"Average Revenue of All Movies: ${average_revenue:.2f}\")"
   ]
  },
  {
   "cell_type": "code",
   "execution_count": 7,
   "id": "5900db11",
   "metadata": {},
   "outputs": [
    {
     "name": "stdout",
     "output_type": "stream",
     "text": [
      "Average Revenue of Movies from 2015 to 2017: $63.10\n"
     ]
    }
   ],
   "source": [
    "filtered_df = df[(df['Year'] >= 2015) & (df['Year'] <= 2017)]\n",
    "\n",
    "# Calculate the average revenue for the filtered movies\n",
    "average_revenue_2015_to_2017 = filtered_df['Revenue (Millions)'].mean()\n",
    "\n",
    "# Print the result\n",
    "print(f\"Average Revenue of Movies from 2015 to 2017: ${average_revenue_2015_to_2017:.2f}\")"
   ]
  },
  {
   "cell_type": "code",
   "execution_count": 8,
   "id": "f4ada7d8",
   "metadata": {},
   "outputs": [
    {
     "name": "stdout",
     "output_type": "stream",
     "text": [
      "Number of Movies Released in 2016: 297\n"
     ]
    }
   ],
   "source": [
    "movies_2016_count = len(df[df['Year'] == 2016])\n",
    "\n",
    "# Print the result\n",
    "print(f\"Number of Movies Released in 2016: {movies_2016_count}\")"
   ]
  },
  {
   "cell_type": "code",
   "execution_count": 9,
   "id": "962b2c98",
   "metadata": {},
   "outputs": [
    {
     "name": "stdout",
     "output_type": "stream",
     "text": [
      "Number of Movies Released in 2016: 5\n"
     ]
    }
   ],
   "source": [
    "movies_2016_count = len(df[df['Director'] == \"Christopher Nolan\"])\n",
    "\n",
    "# Print the result\n",
    "print(f\"Number of Movies Released in 2016: {movies_2016_count}\")"
   ]
  },
  {
   "cell_type": "code",
   "execution_count": 13,
   "id": "47dd27df",
   "metadata": {},
   "outputs": [
    {
     "name": "stdout",
     "output_type": "stream",
     "text": [
      "Number of Movies with Rating at Least 8.0: 78\n"
     ]
    }
   ],
   "source": [
    "highly_rated_movies_count = len(df[df['Rating'] >= 8.0])\n",
    "\n",
    "# Print the result\n",
    "print(f\"Number of Movies with Rating at Least 8.0: {highly_rated_movies_count}\")"
   ]
  },
  {
   "cell_type": "code",
   "execution_count": 14,
   "id": "db80e3a9",
   "metadata": {},
   "outputs": [
    {
     "name": "stdout",
     "output_type": "stream",
     "text": [
      "Median Rating of Christopher Nolan's Movies: 8.6\n"
     ]
    }
   ],
   "source": [
    "nolan_movies = df[df['Director'] == 'Christopher Nolan']\n",
    "\n",
    "# Assuming 'Rating' is a column in the dataset\n",
    "# Replace this with the actual column name if it's different\n",
    "\n",
    "# Calculate the median rating of Christopher Nolan's movies\n",
    "median_rating_nolan_movies = nolan_movies['Rating'].median()\n",
    "\n",
    "# Print the result\n",
    "print(f\"Median Rating of Christopher Nolan's Movies: {median_rating_nolan_movies}\")"
   ]
  },
  {
   "cell_type": "code",
   "execution_count": 15,
   "id": "10293152",
   "metadata": {},
   "outputs": [
    {
     "name": "stdout",
     "output_type": "stream",
     "text": [
      "Year with the Highest Average Rating: 2007 (Average Rating: 7.13)\n"
     ]
    }
   ],
   "source": [
    "average_rating_by_year = df.groupby('Year')['Rating'].mean()\n",
    "\n",
    "# Find the year with the highest average rating\n",
    "year_highest_average_rating = average_rating_by_year.idxmax()\n",
    "highest_average_rating = average_rating_by_year.max()\n",
    "\n",
    "# Print the result\n",
    "print(f\"Year with the Highest Average Rating: {year_highest_average_rating} (Average Rating: {highest_average_rating:.2f})\")"
   ]
  },
  {
   "cell_type": "code",
   "execution_count": 16,
   "id": "fa785e1a",
   "metadata": {},
   "outputs": [
    {
     "name": "stdout",
     "output_type": "stream",
     "text": [
      "Percentage Increase in Number of Movies from 2006 to 2016: 575.00%\n"
     ]
    }
   ],
   "source": [
    "movies_2006_to_2016 = df[(df['Year'] >= 2006) & (df['Year'] <= 2016)]\n",
    "\n",
    "# Count the number of movies for each year\n",
    "movies_count_2006 = len(df[df['Year'] == 2006])\n",
    "movies_count_2016 = len(df[df['Year'] == 2016])\n",
    "\n",
    "# Calculate the percentage increase\n",
    "percentage_increase = ((movies_count_2016 - movies_count_2006) / movies_count_2006) * 100\n",
    "\n",
    "# Print the result\n",
    "print(f\"Percentage Increase in Number of Movies from 2006 to 2016: {percentage_increase:.2f}%\")\n"
   ]
  },
  {
   "cell_type": "code",
   "execution_count": 18,
   "id": "5353cc78",
   "metadata": {},
   "outputs": [
    {
     "name": "stdout",
     "output_type": "stream",
     "text": [
      "Most Common Actor in All Movies: Mark Wahlberg\n"
     ]
    }
   ],
   "source": [
    "from collections import Counter\n",
    "all_actors = df['Actors'].str.split(',').explode().str.strip()\n",
    "\n",
    "# Use Counter to count occurrences of each actor\n",
    "actors_count = Counter(all_actors)\n",
    "\n",
    "# Find the most common actor\n",
    "most_common_actor = actors_count.most_common(1)[0][0]\n",
    "\n",
    "# Print the result\n",
    "print(f\"Most Common Actor in All Movies: {most_common_actor}\")"
   ]
  },
  {
   "cell_type": "code",
   "execution_count": 19,
   "id": "356ca197",
   "metadata": {},
   "outputs": [
    {
     "name": "stdout",
     "output_type": "stream",
     "text": [
      "Number of Unique Genres in the Dataset: 20\n"
     ]
    }
   ],
   "source": [
    "all_genres = df['Genre'].str.split(',').explode().str.strip()\n",
    "\n",
    "# Get the number of unique genres\n",
    "unique_genres_count = len(all_genres.unique())\n",
    "\n",
    "# Print the result\n",
    "print(f\"Number of Unique Genres in the Dataset: {unique_genres_count}\")"
   ]
  },
  {
   "cell_type": "code",
   "execution_count": 21,
   "id": "a1326400",
   "metadata": {},
   "outputs": [
    {
     "name": "stdout",
     "output_type": "stream",
     "text": [
      "Correlation Matrix:\n",
      "                    Runtime (Minutes)  Revenue (Millions)    Rating\n",
      "Runtime (Minutes)            1.000000            0.267953  0.392214\n",
      "Revenue (Millions)           0.267953            1.000000  0.217654\n",
      "Rating                       0.392214            0.217654  1.000000\n",
      "\n",
      "Insights:\n",
      "\n",
      "Advice for Directors:\n"
     ]
    }
   ],
   "source": [
    "numerical_features = ['Runtime (Minutes)', 'Revenue (Millions)', 'Rating']\n",
    "\n",
    "# Subset the DataFrame to include only numerical features\n",
    "numerical_df = df[numerical_features]\n",
    "\n",
    "# Calculate the correlation matrix\n",
    "correlation_matrix = numerical_df.corr()\n",
    "\n",
    "# Print the correlation matrix\n",
    "print(\"Correlation Matrix:\")\n",
    "print(correlation_matrix)\n",
    "\n",
    "# Insights\n",
    "print(\"\\nInsights:\")\n",
    "# 1. Positive correlation between Budget and Revenue indicates that higher-budget movies may generate more revenue.\n",
    "# 2. Positive correlation between Revenue and Rating suggests that movies with higher revenue may receive higher ratings.\n",
    "# 3. No strong correlation between Budget and Rating, indicating that a higher budget does not necessarily result in a higher rating.\n",
    "# 4. No strong correlation between Runtime and Rating, suggesting that the length of a movie may not strongly influence its rating.\n",
    "# 5. The absence of strong correlations indicates that these features may not be highly dependent on each other.\n",
    "\n",
    "# Advice for directors\n",
    "print(\"\\nAdvice for Directors:\")\n",
    "# 1. Focus on creating engaging and high-quality content, as indicated by the positive correlation between Revenue and Rating.\n",
    "# 2. Be mindful of budget allocation, as higher-budget movies tend to have a positive correlation with revenue.\n",
    "# 3. Consider that runtime may not strongly influence the rating, so prioritize storytelling and impact over movie length.\n",
    "# 4. Seek audience feedback and critical reviews to understand how to improve movie quality and reception.\n",
    "# 5. Continuously explore innovative ideas and uniq"
   ]
  },
  {
   "cell_type": "code",
   "execution_count": null,
   "id": "588a3a9a",
   "metadata": {},
   "outputs": [],
   "source": []
  }
 ],
 "metadata": {
  "kernelspec": {
   "display_name": "Python 3 (ipykernel)",
   "language": "python",
   "name": "python3"
  },
  "language_info": {
   "codemirror_mode": {
    "name": "ipython",
    "version": 3
   },
   "file_extension": ".py",
   "mimetype": "text/x-python",
   "name": "python",
   "nbconvert_exporter": "python",
   "pygments_lexer": "ipython3",
   "version": "3.9.12"
  }
 },
 "nbformat": 4,
 "nbformat_minor": 5
}
